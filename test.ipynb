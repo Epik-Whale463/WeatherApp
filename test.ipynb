{
 "cells": [
  {
   "cell_type": "code",
   "execution_count": 7,
   "metadata": {},
   "outputs": [
    {
     "name": "stdout",
     "output_type": "stream",
     "text": [
      "2024-01-29: Temperature: 3.1°C, Condition: Patchy rain nearby\n",
      "2024-01-30: Temperature: 1.4°C, Condition: Overcast \n",
      "2024-01-31: Temperature: 3.6°C, Condition: Overcast \n",
      "2024-02-01: Temperature: 6.1°C, Condition: Overcast \n",
      "2024-02-02: Temperature: 5.0°C, Condition: Patchy rain nearby\n",
      "2024-02-03: Temperature: -0.8°C, Condition: Sunny\n",
      "2024-02-04: Temperature: -1.0°C, Condition: Sunny\n",
      "2024-02-05: Temperature: 1.6°C, Condition: Sunny\n",
      "2024-02-06: Temperature: 1.8°C, Condition: Sunny\n",
      "2024-02-07: Temperature: 1.2°C, Condition: Sunny\n"
     ]
    }
   ],
   "source": [
    "import requests\n",
    "\n",
    "# Replace 'YOUR_API_KEY' with your actual WeatherAPI.com API key\n",
    "api_key = '0267d2e34c844b7f8e5124545242901'\n",
    "base_url = 'http://api.weatherapi.com/v1/forecast.json'\n",
    "\n",
    "# Replace 'CITY_NAME' with the city for which you want the forecast\n",
    "city_name = 'new york'\n",
    "\n",
    "# Replace 'DAYS' with the number of days you want the forecast for (e.g., 3, 5, 7, etc.)\n",
    "days = 10\n",
    "\n",
    "# Make the API request\n",
    "response = requests.get(f'{base_url}?key={api_key}&q={city_name}&days={days}')\n",
    "\n",
    "# Check if the request was successful (status code 200)\n",
    "if response.status_code == 200:\n",
    "    # Parse the JSON response\n",
    "    data = response.json()\n",
    "\n",
    "    # Access the forecast information\n",
    "    forecast_days = data['forecast']['forecastday']\n",
    "\n",
    "    # Example: Print the forecast for each day\n",
    "    for day in forecast_days:\n",
    "        date = day['date']\n",
    "        temperature = day['day']['avgtemp_c']\n",
    "        condition = day['day']['condition']['text']\n",
    "        print(f'{date}: Temperature: {temperature}°C, Condition: {condition}')\n",
    "else:\n",
    "    # Print an error message if the request was not successful\n",
    "    print(f'Error: {response.status_code}')\n",
    "    print(response.text)\n"
   ]
  },
  {
   "cell_type": "code",
   "execution_count": null,
   "metadata": {},
   "outputs": [],
   "source": []
  }
 ],
 "metadata": {
  "kernelspec": {
   "display_name": "Python 3",
   "language": "python",
   "name": "python3"
  },
  "language_info": {
   "codemirror_mode": {
    "name": "ipython",
    "version": 3
   },
   "file_extension": ".py",
   "mimetype": "text/x-python",
   "name": "python",
   "nbconvert_exporter": "python",
   "pygments_lexer": "ipython3",
   "version": "3.12.1"
  }
 },
 "nbformat": 4,
 "nbformat_minor": 2
}
